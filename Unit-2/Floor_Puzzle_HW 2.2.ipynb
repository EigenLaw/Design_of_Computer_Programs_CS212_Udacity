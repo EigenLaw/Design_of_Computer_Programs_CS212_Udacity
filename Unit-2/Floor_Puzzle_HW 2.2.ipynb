{
 "metadata": {
  "name": ""
 },
 "nbformat": 3,
 "nbformat_minor": 0,
 "worksheets": [
  {
   "cells": [
    {
     "cell_type": "heading",
     "level": 1,
     "metadata": {},
     "source": [
      "Floor Puzzle"
     ]
    },
    {
     "cell_type": "raw",
     "metadata": {},
     "source": [
      "#------------------\n",
      "# User Instructions\n",
      "#\n",
      "# Hopper, Kay, Liskov, Perlis, and Ritchie live on \n",
      "# different floors of a five-floor apartment building. \n",
      "#\n",
      "# Hopper does not live on the top floor. \n",
      "# Kay does not live on the bottom floor. \n",
      "# Liskov does not live on either the top or the bottom floor. \n",
      "# Perlis lives on a higher floor than does Kay. \n",
      "# Ritchie does not live on a floor adjacent to Liskov's. \n",
      "# Liskov does not live on a floor adjacent to Kay's. \n",
      "# \n",
      "# Where does everyone live?  \n",
      "# \n",
      "# Write a function floor_puzzle() that returns a list of\n",
      "# five floor numbers denoting the floor of Hopper, Kay, \n",
      "# Liskov, Perlis, and Ritchie.\n",
      "\n"
     ]
    },
    {
     "cell_type": "code",
     "collapsed": false,
     "input": [
      "import itertools\n",
      "\n",
      "\n",
      "def imhigher(h1, h2):\n",
      "    \"floor h1 is above of h2 if h1-h2 == 1.\"\n",
      "    return h1-h2 > 0\n",
      "\n",
      "def adjto(h1, h2):\n",
      "    \"Two floors are next to each other if they differ by 1.\"\n",
      "    return abs(h1-h2) == 1\n",
      "\n",
      "def floor_puzzle():\n",
      "    floors = first, _, middle, _, _ = [1, 2, 3, 4, 5]\n",
      "    orderings = list(itertools.permutations(floors)) # 1\n",
      "    return next([Hopper, Kay, Liskov, Perlis, Ritchie]\n",
      "                for (Hopper, Kay, Liskov, Perlis, Ritchie) in orderings\n",
      "                if Hopper != 5 # Hopper does not live on the top floor. \n",
      "                if Kay != 1 # Kay does not live on the bottom floor. \n",
      "                if Liskov != 5 and Liskov != 1 # Liskov does not live on either the top or the bottom floor. \n",
      "                if imhigher(Perlis, Kay)# Perlis lives on a higher floor than does Kay. \n",
      "                if adjto(Ritchie, Liskov)# Ritchie does not live on a floor adjacent to Liskov's. \n",
      "                if adjto(Kay, Liskov) # Liskov does not live on a floor adjacent to Kay's. \n",
      "                )\n",
      "print floor_puzzle()"
     ],
     "language": "python",
     "metadata": {},
     "outputs": [
      {
       "output_type": "stream",
       "stream": "stdout",
       "text": [
        "[1, 2, 3, 5, 4]\n"
       ]
      }
     ],
     "prompt_number": 3
    },
    {
     "cell_type": "code",
     "collapsed": false,
     "input": [],
     "language": "python",
     "metadata": {},
     "outputs": []
    }
   ],
   "metadata": {}
  }
 ]
}