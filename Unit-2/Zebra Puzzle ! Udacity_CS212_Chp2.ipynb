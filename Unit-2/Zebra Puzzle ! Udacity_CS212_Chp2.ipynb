{
 "metadata": {
  "name": ""
 },
 "nbformat": 3,
 "nbformat_minor": 0,
 "worksheets": [
  {
   "cells": [
    {
     "cell_type": "heading",
     "level": 2,
     "metadata": {},
     "source": [
      "Permutations and Combinations Stuff"
     ]
    },
    {
     "cell_type": "markdown",
     "metadata": {},
     "source": [
      "Consider this puzzle,\n",
      "\n",
      "[Zebra Puzzle](http://en.wikipedia.org/wiki/Zebra_Puzzle)\n",
      "\n",
      "1 There are five houses.\n",
      "\n",
      "2 The Englishman lives in the red house.\n",
      "\n",
      "3 The Spaniard owns the dog.\n",
      "\n",
      "4 Coffee is drunk in the green house.\n",
      "\n",
      "5 The Ukrainian drinks tea.\n",
      "\n",
      "6 The green house is immediately to the right of the ivory house.\n",
      "\n",
      "7 The Old Gold smoker owns snails.\n",
      "\n",
      "8 Kools are smoked in the yellow house.\n",
      "\n",
      "9 Milk is drunk in the middle house.\n",
      "\n",
      "10 The Norwegian lives in the first house.\n",
      "\n",
      "11 The man who smokes Chesterfields lives in the house next to the man with the fox.\n",
      "\n",
      "12 Kools are smoked in a house next to the house where the horse is kept.\n",
      "\n",
      "13 The Lucky Strike smoker drinks orange juice.\n",
      "\n",
      "14 The Japanese smokes Parliaments.\n",
      "\n",
      "15 The Norwegian lives next to the blue house.\n",
      "\n",
      "**Who drinks water? Who owns the zebra?**  \n",
      "*Each house is painted a different color, and their inhabitants are of different nationalities, own different pets, drink different beverages and smoke different brands of American cigarettes.*\n",
      "\n",
      "__Challenge is to solve this puzzle! ..__\n",
      "\n",
      "5 Houses, 5 Colours .. how many ways can you assign 5 houses to these 5 colours ?\n",
      "\n",
      "**Permutations without Repetition :**  *1st color u can choose in 5 ways, 2nd in 4 ... so 5!*\n",
      "\n",
      "5 Houses, 5 Colours, 5 pets, 5 nationalities , 5 beverages .. how many ways can you assign 5 houses to these 5 properties ?\n",
      "\n",
      "**Permutations with Repetition :**  *1st property u can choose in 5! ways, 2nd in 5! .... so 5!^5*"
     ]
    },
    {
     "cell_type": "code",
     "collapsed": false,
     "input": [
      "import math\n",
      "print(\"{} : {}\".format(\"Permutations without Repetition \", math.factorial(5)))\n",
      "print(\"{} : {}\".format(\"Permutations with Repetition \", math.factorial(5)**5))\n",
      "#execute typical instruction in a pc :\t 1/1,000,000,000 sec = 1 nanosec\n",
      "# typically so brue force will take 24883200000 nanosec\n",
      "print(\"{} : {}\".format(\"No of Secs (BruteForce) \", (math.factorial(5)**5)*(10**-9)))\n",
      "print(\"{} : {}\".format(\"No of Mins (BruteForce) \", ((math.factorial(5)**5)*(10**-9))/60))\n",
      "print(\"{} : {}\".format(\"No of Hours (BruteForce) \", (((math.factorial(5)**5)*(10**-9))/60)))"
     ],
     "language": "python",
     "metadata": {},
     "outputs": [
      {
       "output_type": "stream",
       "stream": "stdout",
       "text": [
        "Permutations without Repetition  : 120\n",
        "Permutations with Repetition  : 24883200000\n",
        "No of Secs (BruteForce)  : 24.8832\n",
        "No of Mins (BruteForce)  : 0.41472\n",
        "No of Hours (BruteForce)  : 0.41472\n"
       ]
      }
     ],
     "prompt_number": 13
    },
    {
     "cell_type": "heading",
     "level": 2,
     "metadata": {},
     "source": [
      "Python Solution"
     ]
    },
    {
     "cell_type": "code",
     "collapsed": false,
     "input": [
      "import itertools #permutations can be done\n",
      "\n",
      "def imright(h1, h2):\n",
      "    \"House h1 is immediately right of h2 if h1-h2 == 1.\"\n",
      "    return h1-h2 == 1\n",
      "\n",
      "def nextto(h1, h2):\n",
      "    \"Two houses are next to each other if they differ by 1.\"\n",
      "    return abs(h1-h2) == 1\n",
      "\n",
      "def zebra_puzzle():\n",
      "    \"Return a tuple (WATER, ZEBRA indicating their house numbers.\"\n",
      "    houses = first, _, middle, _, _ = [1, 2, 3, 4, 5]\n",
      "    orderings = list(itertools.permutations(houses)) # 1\n",
      "    return next((WATER, ZEBRA)\n",
      "                for (red, green, ivory, yellow, blue) in orderings\n",
      "                if imright(green, ivory)\n",
      "                for (Englishman, Spaniard, Ukranian, Japanese, Norwegian) in orderings\n",
      "                if Englishman is red\n",
      "                if Norwegian is first\n",
      "                if nextto(Norwegian, blue)\n",
      "                for (coffee, tea, milk, oj, WATER) in orderings\n",
      "                if coffee is green\n",
      "                if Ukranian is tea\n",
      "                if milk is middle\n",
      "                for (OldGold, Kools, Chesterfields, LuckyStrike, Parliaments) in orderings\n",
      "                if Kools is yellow\n",
      "                if LuckyStrike is oj\n",
      "                if Japanese is Parliaments\n",
      "                for (dog, snails, fox, horse, ZEBRA) in orderings\n",
      "                if Spaniard is dog\n",
      "                if OldGold is snails\n",
      "                if nextto(Chesterfields, fox)\n",
      "                if nextto(Kools, horse)\n",
      "                )\n",
      "\n",
      "import time\n",
      "\n",
      "def timedcall(fn, *args):\n",
      "    \"Call function with args; return the time in seconds and result.\"\n",
      "    t0 = time.clock()\n",
      "    result = fn(*args) \n",
      "    \"\"\" \n",
      "    something(fn, *args) means like if we give something(fn, 1,2,3)\n",
      "    then at the bottom fn(*args)  becomes fn(1,2,3) \n",
      "    \"\"\"\n",
      "    t1 = time.clock()\n",
      "    return t1-t0, result\n",
      "\n",
      "def average(numbers):\n",
      "    \"Return the average (arithmetic mean) of a sequence of numbers.\"\n",
      "    return sum(numbers) / float(len(numbers)) \n",
      "\n",
      "def timedcalls(n, fn, *args):\n",
      "    \"\"\"Call fn(*args) repeatedly: n times if n is an int, or up to\n",
      "    n seconds if n is a float; return the min, avg, and max time\"\"\"\n",
      "    if isinstance(n,int): # if n is an integer\n",
      "        times = [timedcall(fn,*args)[0] for _ in range(n)]\n",
      "    else:\n",
      "        times=[]\n",
      "        t0 = time.clock()\n",
      "        while (time.clock()-t0) < n: # till it becomes n seconds\n",
      "            times.append(timedcall(fn, *args)[0])\n",
      "    return min(times), average(times), max(times)\n",
      "\n",
      "timedcall(zebra_puzzle) # a function to return the result of the fn sent as i/p and also send its execution time"
     ],
     "language": "python",
     "metadata": {},
     "outputs": [
      {
       "metadata": {},
       "output_type": "pyout",
       "prompt_number": 21,
       "text": [
        "(0.0003763752991972069, (1, 5))"
       ]
      }
     ],
     "prompt_number": 21
    },
    {
     "cell_type": "heading",
     "level": 2,
     "metadata": {},
     "source": [
      "Aspect Oriented Programming"
     ]
    },
    {
     "cell_type": "markdown",
     "metadata": {},
     "source": [
      "**It is better to seperate our code into parts which are written as meant for correctness, efficiency, Debug**  \n",
      "*For example, if I need a code to check how calls i have made in each for loop*  \n",
      "Then now, to add a count variable requires refactoring.. instead we can make the orderings datastructure to say how many times it has been called.. So now you seperate the debigging function.. you name it as a simple variable called c as you will anyway remove it at some point  \n"
     ]
    },
    {
     "cell_type": "code",
     "collapsed": false,
     "input": [
      "import itertools #permutations can be done\n",
      "\n",
      "def imright(h1, h2):\n",
      "    \"House h1 is immediately right of h2 if h1-h2 == 1.\"\n",
      "    return h1-h2 == 1\n",
      "\n",
      "def nextto(h1, h2):\n",
      "    \"Two houses are next to each other if they differ by 1.\"\n",
      "    return abs(h1-h2) == 1\n",
      "\n",
      "def zebra_puzzle():\n",
      "    \"Return a tuple (WATER, ZEBRA indicating their house numbers.\"\n",
      "    houses = first, _, middle, _, _ = [1, 2, 3, 4, 5]\n",
      "    orderings = list(itertools.permutations(houses)) # 1\n",
      "    return next((WATER, ZEBRA)\n",
      "                for (red, green, ivory, yellow, blue) in c(orderings)\n",
      "                if imright(green, ivory)\n",
      "                for (Englishman, Spaniard, Ukranian, Japanese, Norwegian) in c(orderings)\n",
      "                if Englishman is red\n",
      "                if Norwegian is first\n",
      "                if nextto(Norwegian, blue)\n",
      "                for (coffee, tea, milk, oj, WATER) in c(orderings)\n",
      "                if coffee is green\n",
      "                if Ukranian is tea\n",
      "                if milk is middle\n",
      "                for (OldGold, Kools, Chesterfields, LuckyStrike, Parliaments) in c(orderings)\n",
      "                if Kools is yellow\n",
      "                if LuckyStrike is oj\n",
      "                if Japanese is Parliaments\n",
      "                for (dog, snails, fox, horse, ZEBRA) in c(orderings)\n",
      "                if Spaniard is dog\n",
      "                if OldGold is snails\n",
      "                if nextto(Chesterfields, fox)\n",
      "                if nextto(Kools, horse)\n",
      "                )\n",
      "\n",
      "def c(sequence):\n",
      "    \"\"\" \n",
      "    Generate items in a sequence, keeping the count as we go\n",
      "    c.starts is the no of sequence started;\n",
      "    c.items is the no of items generated;\n",
      "    \"\"\"\n",
      "    c.starts += 1\n",
      "    for item in sequence: \n",
      "        #for loop is actually like change the seq to iterator and iterate till sequence exists(next(seq) != empty)\n",
      "        #so after yield is done and c(orderings) will return a ordering, at next(c(ordering)) .. the for loop is resumed..  \n",
      "        # only when it jumps to next for again.. c(orderings) is restarted/called\n",
      "        c.items += 1\n",
      "        yield item\n",
      "\n",
      "def instrument_fn(fn, *args):\n",
      "    c.starts, c.items = 0, 0\n",
      "    \"\"\" What \"c.starts\", as an expression, means is \"fetch the value of the 'starts' attribute from the object \n",
      "    that is the value of c\". On the left-hand side of an assignment statement, \n",
      "    it means \"assign the 'starts' attribute of the object that is the value of c\".\n",
      "\n",
      "    Just like any other variable or place where a value is stored, \n",
      "    you need to initialize these before you use them; that's what instrument_function does.\n",
      "    \"\"\"\n",
      "    result = fn(*args)\n",
      "    print('%s got %s with %5d iters over %7d items'%(\n",
      "        fn.__name__, result, c.starts, c.items))\n",
      "    \n",
      "instrument_fn(zebra_puzzle)"
     ],
     "language": "python",
     "metadata": {},
     "outputs": [
      {
       "output_type": "stream",
       "stream": "stdout",
       "text": [
        "zebra_puzzle got (1, 5) with    25 iters over    2775 items\n"
       ]
      }
     ],
     "prompt_number": 27
    },
    {
     "cell_type": "code",
     "collapsed": false,
     "input": [],
     "language": "python",
     "metadata": {},
     "outputs": []
    }
   ],
   "metadata": {}
  }
 ]
}