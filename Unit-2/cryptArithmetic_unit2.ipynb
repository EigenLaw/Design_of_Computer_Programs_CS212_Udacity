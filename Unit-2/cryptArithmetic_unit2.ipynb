{
 "metadata": {
  "name": ""
 },
 "nbformat": 3,
 "nbformat_minor": 0,
 "worksheets": [
  {
   "cells": [
    {
     "cell_type": "markdown",
     "metadata": {},
     "source": [
      "\"Crypt-\" for cryptography--secret writing---and arithmetic for arithmetic-- doing addition and other types of problems, and the idea here is that each of these letters of the alphabet stands for some digit from 0 to 9.\n",
      "\n",
      "The problem is to figure out which digit stands for which such that the equation will be correct."
     ]
    },
    {
     "cell_type": "markdown",
     "metadata": {},
     "source": [
      "'ODD + ODD == EVEN'  \n",
      "All permutations of the digits,  \n",
      "10 factorial = 3 million.  \n",
      "*\"That's not so many. It seems like it's feasible to try all the possibilities. It's not going to be super quick. We would rather have this be thousands rather than millions because there seems to be a fair amount of work in substituting in all the letters with digits. But we can expect to be able to try all millions, not within a second, but within about a minute or so.\"*\n",
      "\n",
      "Represent our formula as a string, and we'll use official Python notation here with the double equal sign => 'ODD + ODD == EVEN'\n",
      "\n",
      "*\"Then we fill in with all permutations of the 10 digits for each of the letter, and if there's fewer letters, we have to account for that.\n",
      "For example, we might substitute a 1 for the Os, and a 2 for the Ds, and a 3 for the Es, and a 4 for the Vs, and a 5 for the Ns.\n",
      "Otherwise just copy the equation. Then evaluate that and check if that's equal to True. If it is, then we have a solution. If it's not, we'll go back and we'll try another combination-- maybe 1, 3, 3, and so on. We'll keep on going through until we find some permutation that works. That's the design\"*  \n",
      "\n"
     ]
    },
    {
     "cell_type": "heading",
     "level": 2,
     "metadata": {},
     "source": [
      "Inventory"
     ]
    },
    {
     "cell_type": "markdown",
     "metadata": {},
     "source": [
      "1. Equations\n",
      "   * Original : String\n",
      "   * Filled : String\n",
      "2. Letter : single char like 'D'\n",
      "3. Digits : single char like '3'\n",
      "4. Assignment\n",
      "   * Letter -> Digit : table that says ex. 'D' -> '3' (str.Translate fn in python)\n",
      "5. Evaluate\n",
      "   * Is FilledIn eqn a Accurate one ? (eval fn in python)"
     ]
    },
    {
     "cell_type": "heading",
     "level": 4,
     "metadata": {},
     "source": [
      "str.Translate Example"
     ]
    },
    {
     "cell_type": "code",
     "collapsed": false,
     "input": [
      "import string\n",
      "table = string.maketrans('ABC','123')\n",
      "formula = 'A + B == C'\n",
      "print formula.translate(table)\n",
      "print eval(formula.translate(table))"
     ],
     "language": "python",
     "metadata": {},
     "outputs": [
      {
       "output_type": "stream",
       "stream": "stdout",
       "text": [
        "1 + 2 == 3\n",
        "True\n"
       ]
      }
     ],
     "prompt_number": 5
    },
    {
     "cell_type": "markdown",
     "metadata": {},
     "source": [
      "## Function \"valid\"  \n",
      "It takes a filled-in formula like '1 + 2 == 3', and returns True or False. True if the formula is, in fact, valid.  \n",
      "And False if it represents an invalid equation like '1 + 3 == 3'. Or it should also return False if it represents a error like 1 divided by 0 equals 3.  \n",
      "*Hint : Use try and except*"
     ]
    },
    {
     "cell_type": "code",
     "collapsed": false,
     "input": [
      "import string, re\n",
      "\n",
      "def valid(f):\n",
      "    \"Formula f is valid iff it has no number with leading zero, and evals true\"\n",
      "    try:\n",
      "        return not re.search(r'\\b0[0-9]', f) and eval(f) is True\n",
      "    except ArithmeticError:\n",
      "        return False"
     ],
     "language": "python",
     "metadata": {},
     "outputs": [],
     "prompt_number": 6
    },
    {
     "cell_type": "markdown",
     "metadata": {},
     "source": [
      "`re.search(r'\\b0[0-9]', f)`\n",
      "\n",
      "*\\b* represents word boundary  \n",
      "*0[0-9]* => 0 followed by any digit from 0-9\n",
      "not re.search(r'\\b0[0-9]', f) => This should not happen!  \n",
      "**Why??**\n",
      "\n",
      "Because in 1970's **C Language** defined that any number that starts with 0 \n",
      "should be Interpreted as a octal number.  \n",
      "so 012 means ' 0*8^2 + 1*8^1 + 2*8^0'"
     ]
    },
    {
     "cell_type": "markdown",
     "metadata": {},
     "source": [
      "## Solve function\n",
      " *Given a formula like 'ODD + ODD == EVEN', fill in digits to solve it.\n",
      "   Input formula is a string; output is a digit-filled-in string or None.*\n",
      "   \n",
      "   Assume that a formula fill_in exists, that return all possible permutations of substituted numbers"
     ]
    },
    {
     "cell_type": "code",
     "collapsed": false,
     "input": [
      "def solve(formula):   \n",
      "    for i in fill_in(formula):\n",
      "        if valid(i):\n",
      "           return i"
     ],
     "language": "python",
     "metadata": {},
     "outputs": [],
     "prompt_number": 7
    },
    {
     "cell_type": "markdown",
     "metadata": {},
     "source": [
      "Now write the fill in formula,\n",
      "\n",
      "First what is the function that gives us all possible combinations of 3 digits without repetition? it is permutations\n",
      "for example,"
     ]
    },
    {
     "cell_type": "code",
     "collapsed": false,
     "input": [
      "import itertools\n",
      "print  [i for i in itertools.permutations('1234567890', 2)]"
     ],
     "language": "python",
     "metadata": {},
     "outputs": [
      {
       "output_type": "stream",
       "stream": "stdout",
       "text": [
        "[('1', '2'), ('1', '3'), ('1', '4'), ('1', '5'), ('1', '6'), ('1', '7'), ('1', '8'), ('1', '9'), ('1', '0'), ('2', '1'), ('2', '3'), ('2', '4'), ('2', '5'), ('2', '6'), ('2', '7'), ('2', '8'), ('2', '9'), ('2', '0'), ('3', '1'), ('3', '2'), ('3', '4'), ('3', '5'), ('3', '6'), ('3', '7'), ('3', '8'), ('3', '9'), ('3', '0'), ('4', '1'), ('4', '2'), ('4', '3'), ('4', '5'), ('4', '6'), ('4', '7'), ('4', '8'), ('4', '9'), ('4', '0'), ('5', '1'), ('5', '2'), ('5', '3'), ('5', '4'), ('5', '6'), ('5', '7'), ('5', '8'), ('5', '9'), ('5', '0'), ('6', '1'), ('6', '2'), ('6', '3'), ('6', '4'), ('6', '5'), ('6', '7'), ('6', '8'), ('6', '9'), ('6', '0'), ('7', '1'), ('7', '2'), ('7', '3'), ('7', '4'), ('7', '5'), ('7', '6'), ('7', '8'), ('7', '9'), ('7', '0'), ('8', '1'), ('8', '2'), ('8', '3'), ('8', '4'), ('8', '5'), ('8', '6'), ('8', '7'), ('8', '9'), ('8', '0'), ('9', '1'), ('9', '2'), ('9', '3'), ('9', '4'), ('9', '5'), ('9', '6'), ('9', '7'), ('9', '8'), ('9', '0'), ('0', '1'), ('0', '2'), ('0', '3'), ('0', '4'), ('0', '5'), ('0', '6'), ('0', '7'), ('0', '8'), ('0', '9')]\n"
       ]
      }
     ],
     "prompt_number": 13
    },
    {
     "cell_type": "code",
     "collapsed": false,
     "input": [
      "\"Generate all possible fillings-in of letters in formula with digits.\"\n",
      "def fill_in(formula):\n",
      "    letters = ''.join(set(re.findall('[A-Z]',formula)))\n",
      "    for digits in itertools.permutations('1234567890', len(letters)):\n",
      "        table = string.maketrans(letters, ''.join(digits))\n",
      "        yield formula.translate(table)"
     ],
     "language": "python",
     "metadata": {},
     "outputs": [],
     "prompt_number": 14
    },
    {
     "cell_type": "code",
     "collapsed": false,
     "input": [
      "print 3/2 #in older 2.x it will be 1\n",
      "from __future__ import division\n",
      "print 3/2"
     ],
     "language": "python",
     "metadata": {},
     "outputs": [
      {
       "output_type": "stream",
       "stream": "stdout",
       "text": [
        "1.5\n",
        "1.5\n"
       ]
      }
     ],
     "prompt_number": 19
    },
    {
     "cell_type": "heading",
     "level": 2,
     "metadata": {},
     "source": [
      "Full Code with tests"
     ]
    },
    {
     "cell_type": "code",
     "collapsed": false,
     "input": [
      "from __future__ import division\n",
      "import string, re, itertools, time\n",
      "\n",
      "def solve(formula):\n",
      "    \"\"\"Given a formula like 'ODD + ODD == EVEN', fill in digits to solve it.\n",
      "    Input formula is a string; output is a digit-filled-in string or None.\"\"\"\n",
      "    for f in fill_in(formula):\n",
      "        if valid(f):\n",
      "            return f\n",
      "\n",
      "def fill_in(formula):\n",
      "    \"Generate all possible fillings-in of letters in formula with digits.\"\n",
      "    letters = ''.join(set(re.findall('[A-Z]', formula))) #should be a string\n",
      "    for digits in itertools.permutations('1234567890', len(letters)):\n",
      "        table = string.maketrans(letters, ''.join(digits))\n",
      "        yield formula.translate(table)\n",
      "\n",
      "def valid(f):\n",
      "    \"\"\"Formula f is valid if and only if it has no\n",
      "    numbers with leading zero, and evals true.\"\"\"\n",
      "    try:\n",
      "        return not re.search(r'\\b0[0-9]', f) and eval(f) is True\n",
      "    except ArithmeticError:\n",
      "        return False\n",
      "\n",
      "\n",
      "examples = \"\"\"TWO + TWO == FOUR\n",
      "A**2 + B**2 == C**2\n",
      "A**2 + BE**2 == BY**2\n",
      "X / X == X\n",
      "A**N + B**N == C**N and N > 1\n",
      "ATOM**0.5 == A + TO + M\n",
      "GLITTERS is not GOLD\n",
      "ONE < TWO and FOUR < FIVE\n",
      "ONE < TWO < THREE\n",
      "RAMN == R**3 + RM**3 == N**3 + RX**3\n",
      "sum(range(AA)) == BB\n",
      "sum(range(POP)) == BOBO\n",
      "ODD + ODD == EVEN\n",
      "PLUTO not in set([PLANETS])\"\"\".splitlines()\n",
      "\n",
      "def test():\n",
      "    t0 = time.time()\n",
      "    for example in examples:\n",
      "        print  #adds a line\n",
      "        print 13*' ', example #print out the formula\n",
      "        print '%1.4f sec:   %s ' % timedcall(solve, example) #for each formula, what is the answer and how long it took to finish?\n",
      "    print '%6.9f tot.' % (time.time()-t0) #print out the total time taken\n",
      "\n",
      "def timedcall(fn, *args):\n",
      "    \"Call function with args; return the time in seconds and result.\"\n",
      "    t0 = time.time()\n",
      "    result = fn(*args)\n",
      "    t1 = time.time()\n",
      "    return t1-t0, result\n",
      "\n",
      "test()"
     ],
     "language": "python",
     "metadata": {},
     "outputs": [
      {
       "output_type": "stream",
       "stream": "stdout",
       "text": [
        "\n",
        "              TWO + TWO == FOUR\n",
        "0.1310 sec:   734 + 734 == 1468 "
       ]
      },
      {
       "output_type": "stream",
       "stream": "stdout",
       "text": [
        "\n",
        "\n",
        "              A**2 + B**2 == C**2\n",
        "0.0070 sec:   3**2 + 4**2 == 5**2 \n",
        "\n",
        "              A**2 + BE**2 == BY**2\n",
        "0.0630 sec:   5**2 + 12**2 == 13**2 "
       ]
      },
      {
       "output_type": "stream",
       "stream": "stdout",
       "text": [
        "\n",
        "\n",
        "              X / X == X\n",
        "0.0000 sec:   1 / 1 == 1 \n",
        "\n",
        "              A**N + B**N == C**N and N > 1\n",
        "0.0480 sec:   3**2 + 4**2 == 5**2 and 2 > 1 \n",
        "\n",
        "              ATOM**0.5 == A + TO + M\n",
        "0.0070 sec:   1296**0.5 == 1 + 29 + 6 "
       ]
      },
      {
       "output_type": "stream",
       "stream": "stdout",
       "text": [
        "\n",
        "\n",
        "              GLITTERS is not GOLD\n",
        "0.0000 sec:   35499187 is not 3652 \n",
        "\n",
        "              ONE < TWO and FOUR < FIVE\n",
        "0.1020 sec:   351 < 893 and 2376 < 2401 "
       ]
      },
      {
       "output_type": "stream",
       "stream": "stdout",
       "text": [
        "\n",
        "\n",
        "              ONE < TWO < THREE\n",
        "0.0000 sec:   341 < 673 < 62511 \n",
        "\n",
        "              RAMN == R**3 + RM**3 == N**3 + RX**3\n",
        "0.7200 sec:   1729 == 1**3 + 12**3 == 9**3 + 10**3 "
       ]
      },
      {
       "output_type": "stream",
       "stream": "stdout",
       "text": [
        "\n",
        "\n",
        "              sum(range(AA)) == BB\n",
        "0.0010 sec:   sum(range(11)) == 55 \n",
        "\n",
        "              sum(range(POP)) == BOBO\n",
        "0.0010 sec:   sum(range(101)) == 5050 \n",
        "\n",
        "              ODD + ODD == EVEN\n",
        "0.4990 sec:   655 + 655 == 1310 "
       ]
      },
      {
       "output_type": "stream",
       "stream": "stdout",
       "text": [
        "\n",
        "\n",
        "              PLUTO not in set([PLANETS])\n",
        "0.0000 sec:   63894 not in set([6315297]) \n",
        "1.582999945 tot.\n"
       ]
      }
     ],
     "prompt_number": 31
    },
    {
     "cell_type": "heading",
     "level": 2,
     "metadata": {},
     "source": [
      "Profiling"
     ]
    },
    {
     "cell_type": "markdown",
     "metadata": {},
     "source": [
      "`python -m cProfile program.py`  \n",
      "we can get a table of all the values.  \n",
      "\n",
      "If you dont use a iterpreter u can `import cProfile cProfile.run('test()')`"
     ]
    },
    {
     "cell_type": "code",
     "collapsed": false,
     "input": [
      "from __future__ import division\n",
      "import string, re, itertools, time\n",
      "\n",
      "def solve(formula):\n",
      "    \"\"\"Given a formula like 'ODD + ODD == EVEN', fill in digits to solve it.\n",
      "    Input formula is a string; output is a digit-filled-in string or None.\"\"\"\n",
      "    for f in fill_in(formula):\n",
      "        if valid(f):\n",
      "            return f\n",
      "\n",
      "def fill_in(formula):\n",
      "    \"Generate all possible fillings-in of letters in formula with digits.\"\n",
      "    letters = ''.join(set(re.findall('[A-Z]', formula))) #should be a string\n",
      "    for digits in itertools.permutations('1234567890', len(letters)):\n",
      "        table = string.maketrans(letters, ''.join(digits))\n",
      "        yield formula.translate(table)\n",
      "\n",
      "def valid(f):\n",
      "    \"\"\"Formula f is valid if and only if it has no\n",
      "    numbers with leading zero, and evals true.\"\"\"\n",
      "    try:\n",
      "        return not re.search(r'\\b0[0-9]', f) and eval(f) is True\n",
      "    except ArithmeticError:\n",
      "        return False\n",
      "\n",
      "\n",
      "examples = \"\"\"TWO + TWO == FOUR\n",
      "A**2 + B**2 == C**2\n",
      "A**2 + BE**2 == BY**2\n",
      "X / X == X\n",
      "A**N + B**N == C**N and N > 1\n",
      "ATOM**0.5 == A + TO + M\n",
      "GLITTERS is not GOLD\n",
      "ONE < TWO and FOUR < FIVE\n",
      "ONE < TWO < THREE\n",
      "RAMN == R**3 + RM**3 == N**3 + RX**3\n",
      "sum(range(AA)) == BB\n",
      "sum(range(POP)) == BOBO\n",
      "ODD + ODD == EVEN\n",
      "PLUTO not in set([PLANETS])\"\"\".splitlines()\n",
      "\n",
      "def test():\n",
      "    t0 = time.time()\n",
      "    for example in examples:\n",
      "        print  #adds a line\n",
      "        print 13*' ', example #print out the formula\n",
      "        print '%1.4f sec:   %s ' % timedcall(solve, example) #for each formula, what is the answer and how long it took to finish?\n",
      "    print '%6.9f tot.' % (time.time()-t0) #print out the total time taken\n",
      "\n",
      "def timedcall(fn, *args):\n",
      "    \"Call function with args; return the time in seconds and result.\"\n",
      "    t0 = time.time()\n",
      "    result = fn(*args)\n",
      "    t1 = time.time()\n",
      "    return t1-t0, result\n",
      "\n",
      "import cProfile \n",
      "cProfile.run('test()')"
     ],
     "language": "python",
     "metadata": {},
     "outputs": [
      {
       "output_type": "stream",
       "stream": "stdout",
       "text": [
        "\n",
        "              TWO + TWO == FOUR\n",
        "0.1290 sec:   734 + 734 == 1468 "
       ]
      },
      {
       "output_type": "stream",
       "stream": "stdout",
       "text": [
        "\n",
        "\n",
        "              A**2 + B**2 == C**2\n",
        "0.0060 sec:   3**2 + 4**2 == 5**2 \n",
        "\n",
        "              A**2 + BE**2 == BY**2\n",
        "0.0700 sec:   5**2 + 12**2 == 13**2 "
       ]
      },
      {
       "output_type": "stream",
       "stream": "stdout",
       "text": [
        "\n",
        "\n",
        "              X / X == X\n",
        "0.0000 sec:   1 / 1 == 1 \n",
        "\n",
        "              A**N + B**N == C**N and N > 1\n",
        "0.0560 sec:   3**2 + 4**2 == 5**2 and 2 > 1 "
       ]
      },
      {
       "output_type": "stream",
       "stream": "stdout",
       "text": [
        "\n",
        "\n",
        "              ATOM**0.5 == A + TO + M\n",
        "0.0090 sec:   1296**0.5 == 1 + 29 + 6 \n",
        "\n",
        "              GLITTERS is not GOLD\n",
        "0.0000 sec:   35499187 is not 3652 \n",
        "\n",
        "              ONE < TWO and FOUR < FIVE\n",
        "0.1220 sec:   351 < 893 and 2376 < 2401 "
       ]
      },
      {
       "output_type": "stream",
       "stream": "stdout",
       "text": [
        "\n",
        "\n",
        "              ONE < TWO < THREE\n",
        "0.0000 sec:   341 < 673 < 62511 \n",
        "\n",
        "              RAMN == R**3 + RM**3 == N**3 + RX**3\n",
        "0.8050 sec:   1729 == 1**3 + 12**3 == 9**3 + 10**3 "
       ]
      },
      {
       "output_type": "stream",
       "stream": "stdout",
       "text": [
        "\n",
        "\n",
        "              sum(range(AA)) == BB\n",
        "0.0000 sec:   sum(range(11)) == 55 \n",
        "\n",
        "              sum(range(POP)) == BOBO\n",
        "0.0020 sec:   sum(range(101)) == 5050 \n",
        "\n",
        "              ODD + ODD == EVEN\n",
        "0.6470 sec:   655 + 655 == 1310 "
       ]
      },
      {
       "output_type": "stream",
       "stream": "stdout",
       "text": [
        "\n",
        "\n",
        "              PLUTO not in set([PLANETS])\n",
        "0.0000 sec:   63894 not in set([6315297]) \n",
        "1.851000071 tot.\n",
        "        "
       ]
      },
      {
       "output_type": "stream",
       "stream": "stdout",
       "text": [
        " 606604 function calls in 1.829 seconds\n",
        "\n",
        "   Ordered by: standard name\n",
        "\n",
        "   ncalls  tottime  percall  cumtime  percall filename:lineno(function)\n",
        "    61534    0.107    0.000    0.193    0.000 <ipython-input-36-49920cd879c5>:11(fill_in)\n",
        "    61520    0.078    0.000    1.598    0.000 <ipython-input-36-49920cd879c5>:18(valid)\n",
        "       14    0.055    0.004    1.846    0.132 <ipython-input-36-49920cd879c5>:4(solve)\n",
        "        1    0.000    0.000    1.851    1.851 <ipython-input-36-49920cd879c5>:42(test)\n",
        "       14    0.000    0.000    1.846    0.132 <ipython-input-36-49920cd879c5>:50(timedcall)\n",
        "        1    0.000    0.000    0.000    0.000 <string>:1(<module>)\n",
        "       24    0.000    0.000    0.001    0.000 __init__.py:193(dumps)\n",
        "       24    0.000    0.000    0.000    0.000 encoder.py:101(__init__)\n",
        "       24    0.000    0.000    0.000    0.000 encoder.py:186(encode)\n",
        "       24    0.000    0.000    0.000    0.000 encoder.py:212(iterencode)\n",
        "        6    0.000    0.000    0.000    0.000 hmac.py:116(hexdigest)\n",
        "        6    0.000    0.000    0.000    0.000 hmac.py:27(__init__)\n",
        "       24    0.000    0.000    0.000    0.000 hmac.py:80(update)\n",
        "        6    0.000    0.000    0.000    0.000 hmac.py:85(copy)\n",
        "        6    0.000    0.000    0.000    0.000 hmac.py:97(_current)\n",
        "        6    0.000    0.000    0.000    0.000 iostream.py:105(_flush_from_subprocesses)\n",
        "        6    0.000    0.000    0.004    0.001 iostream.py:122(flush)\n",
        "      100    0.001    0.000    0.005    0.000 iostream.py:178(write)\n",
        "        6    0.000    0.000    0.000    0.000 iostream.py:209(_flush_buffer)\n",
        "        6    0.000    0.000    0.000    0.000 iostream.py:218(_new_buffer)\n",
        "      112    0.000    0.000    0.000    0.000 iostream.py:79(_is_master_process)\n",
        "        6    0.000    0.000    0.000    0.000 iostream.py:82(_is_master_thread)\n",
        "      106    0.000    0.000    0.000    0.000 iostream.py:88(_check_mp_mode)\n",
        "       24    0.000    0.000    0.000    0.000 jsonapi.py:58(_squash_unicode)\n",
        "       24    0.000    0.000    0.001    0.000 jsonapi.py:64(dumps)\n",
        "        6    0.000    0.000    0.000    0.000 jsonutil.py:94(date_default)\n",
        "        6    0.000    0.000    0.000    0.000 poll.py:88(poll)\n",
        "        6    0.000    0.000    0.000    0.000 py3compat.py:13(no_code)\n",
        "        6    0.000    0.000    0.001    0.000 pysocket.py:154(send_multipart)\n",
        "    61520    0.061    0.000    0.261    0.000 re.py:139(search)\n",
        "       14    0.000    0.000    0.000    0.000 re.py:169(findall)\n",
        "    61534    0.081    0.000    0.102    0.000 re.py:226(_compile)\n",
        "        6    0.000    0.000    0.000    0.000 session.py:191(msg_header)\n",
        "        6    0.000    0.000    0.000    0.000 session.py:195(extract_header)\n",
        "        6    0.000    0.000    0.000    0.000 session.py:425(msg_id)\n",
        "        6    0.000    0.000    0.001    0.000 session.py:460(msg_header)\n",
        "        6    0.000    0.000    0.001    0.000 session.py:463(msg)\n",
        "        6    0.000    0.000    0.000    0.000 session.py:482(sign)\n",
        "        6    0.000    0.000    0.001    0.000 session.py:497(serialize)\n",
        "        6    0.000    0.000    0.003    0.000 session.py:554(send)\n",
        "       24    0.000    0.000    0.001    0.000 session.py:82(<lambda>)\n",
        "        6    0.000    0.000    0.000    0.000 threading.py:1150(currentThread)\n",
        "        6    0.000    0.000    0.000    0.000 threading.py:981(ident)\n",
        "       72    0.000    0.000    0.000    0.000 traitlets.py:281(__get__)\n",
        "      100    0.000    0.000    0.000    0.000 utf_8.py:15(decode)\n",
        "        6    0.000    0.000    0.000    0.000 uuid.py:101(__init__)\n",
        "        6    0.000    0.000    0.000    0.000 uuid.py:197(__str__)\n",
        "        6    0.000    0.000    0.000    0.000 uuid.py:531(uuid4)\n",
        "      100    0.000    0.000    0.000    0.000 {_codecs.utf_8_decode}\n",
        "        6    0.000    0.000    0.000    0.000 {built-in method now}\n",
        "    50829    1.237    0.000    1.259    0.000 {eval}\n",
        "        6    0.000    0.000    0.000    0.000 {hasattr}\n",
        "      208    0.000    0.000    0.000    0.000 {isinstance}\n",
        "       62    0.000    0.000    0.000    0.000 {len}\n",
        "        6    0.000    0.000    0.000    0.000 {locals}\n",
        "        6    0.000    0.000    0.000    0.000 {map}\n",
        "        6    0.000    0.000    0.000    0.000 {max}\n",
        "       18    0.000    0.000    0.000    0.000 {method 'append' of 'list' objects}\n",
        "        6    0.000    0.000    0.000    0.000 {method 'close' of '_io.StringIO' objects}\n",
        "       18    0.000    0.000    0.000    0.000 {method 'copy' of '_hashlib.HASH' objects}\n",
        "        6    0.000    0.000    0.000    0.000 {method 'copy' of 'dict' objects}\n",
        "        6    0.000    0.000    0.000    0.000 {method 'count' of 'list' objects}\n",
        "      100    0.000    0.000    0.001    0.000 {method 'decode' of 'str' objects}\n",
        "        6    0.000    0.000    0.000    0.000 {method 'digest' of '_hashlib.HASH' objects}\n",
        "        1    0.000    0.000    0.000    0.000 {method 'disable' of '_lsprof.Profiler' objects}\n",
        "       12    0.000    0.000    0.000    0.000 {method 'extend' of 'list' objects}\n",
        "       14    0.000    0.000    0.000    0.000 {method 'findall' of '_sre.SRE_Pattern' objects}\n",
        "    61540    0.022    0.000    0.022    0.000 {method 'get' of 'dict' objects}\n",
        "        6    0.000    0.000    0.000    0.000 {method 'getvalue' of '_io.StringIO' objects}\n",
        "        6    0.000    0.000    0.000    0.000 {method 'hexdigest' of '_hashlib.HASH' objects}\n",
        "        6    0.000    0.000    0.000    0.000 {method 'isoformat' of 'datetime.datetime' objects}\n",
        "        6    0.000    0.000    0.000    0.000 {method 'items' of 'dict' objects}\n",
        "    61558    0.016    0.000    0.016    0.000 {method 'join' of 'str' objects}\n",
        "    61520    0.098    0.000    0.098    0.000 {method 'search' of '_sre.SRE_Pattern' objects}\n",
        "       42    0.001    0.000    0.001    0.000 {method 'send' of 'zmq.core.socket.Socket' objects}\n",
        "    61520    0.018    0.000    0.018    0.000 {method 'translate' of 'str' objects}\n",
        "       30    0.000    0.000    0.000    0.000 {method 'update' of '_hashlib.HASH' objects}\n",
        "      100    0.000    0.000    0.000    0.000 {method 'write' of '_io.StringIO' objects}\n",
        "      118    0.000    0.000    0.000    0.000 {nt.getpid}\n",
        "        6    0.000    0.000    0.000    0.000 {nt.urandom}\n",
        "       42    0.000    0.000    0.000    0.000 {range}\n",
        "    61520    0.051    0.000    0.051    0.000 {strop.maketrans}\n",
        "       36    0.000    0.000    0.000    0.000 {sum}\n",
        "        6    0.000    0.000    0.000    0.000 {thread.get_ident}\n",
        "      130    0.000    0.000    0.000    0.000 {time.time}\n",
        "        6    0.000    0.000    0.000    0.000 {zmq.core._poll._poll}\n",
        "\n",
        "\n"
       ]
      }
     ],
     "prompt_number": 36
    },
    {
     "cell_type": "markdown",
     "metadata": {},
     "source": [
      "### eval is cribbing\n",
      "\n",
      "*ncalls  tottime  percall  cumtime  percall filename:lineno(function)*  \n",
      "*50829    1.208    0.000    1.229    0.000 {eval}*  \n",
      "\n",
      "### Law of Diminishing Returns. \n",
      "*\"Total execution time goes up to 75 seconds, and 10 seconds was taken up by fill in, and then all the rest by everything else.\n",
      "For example, if we made fill in and everything else vanishingly small, then if we didn't touch valid we'd still have an execution time of 63 seconds, even if we could improve these infinitely fast and we wouldn't have helped all that much.\"*\n",
      "\n",
      "### Rethink Eval\n",
      "#### fewer calls or easier calls\n",
      "\n",
      "No possibilites for giving easier calls to eval\n",
      "\n",
      "so only possibility is to make fewer calls to eval  \n",
      "\n",
      "*\"eval the formula once but eval it as a function with parameters. To do all the work of figuring out how to understand number plus number equals number, do that just once and then call that function repeatedly with all the permutations. There'd still be lots of calls to the function, but there'd be fewer calls to eval.\"*\n",
      "\n",
      "## Lambda Function"
     ]
    },
    {
     "cell_type": "code",
     "collapsed": false,
     "input": [
      "\"\"\" YOU == ME**2\"\"\"\n",
      "f = lambda Y,M,E,U,O : (1*U+10*O+100*Y) == (1*E+10*M)**2\n",
      "print f(1,2,3,4,5)\n",
      "print f(2,1,7,9,8)\n",
      "print 289 == 17**2"
     ],
     "language": "python",
     "metadata": {},
     "outputs": [
      {
       "output_type": "stream",
       "stream": "stdout",
       "text": [
        "False\n",
        "True\n",
        "True\n"
       ]
      }
     ],
     "prompt_number": 47
    },
    {
     "cell_type": "heading",
     "level": 2,
     "metadata": {},
     "source": [
      "Compile Formula Function"
     ]
    },
    {
     "cell_type": "markdown",
     "metadata": {},
     "source": [
      "Now I'm thinking of a design where we have some type of a solve function that's going to solve a formula, and we're going to have a compile formula function that's going to take a string formula as input and return a lambda expression function as the result of compiling the formula.\n",
      "\n",
      "As part of that, I want to have a function that I'm going to call compile_word, It's going to take a word like ME and compile that into something like 10M plus E. You could have some variation on exactly how you want to express that."
     ]
    },
    {
     "cell_type": "code",
     "collapsed": false,
     "input": [
      "\"\"\"Compile a word of uppercase letters as numeric digits.\n",
      "    E.g., compile_word('YOU') => '(1*U+10*O+100*Y)'\n",
      "    Non-uppercase words unchanged: compile_word('+') => '+'\"\"\"\n",
      "for index,value in enumerate('YOU'[::-1]):\n",
      "    print index,value\n",
      "    \n",
      "def compile_word(word):\n",
      "    expr = []\n",
      "    if word.isupper():\n",
      "      for index,value in enumerate(word[::-1]): #[::-1] gives reversed string\n",
      "            expr.append('{}*{}'.format(10**index,value))\n",
      "      print expr\n",
      "      return '(' + '+'.join(expr) + ')'\n",
      "    else:\n",
      "        return word\n",
      "\n",
      "print compile_word('YOU')         "
     ],
     "language": "python",
     "metadata": {},
     "outputs": [
      {
       "output_type": "stream",
       "stream": "stdout",
       "text": [
        "0 U\n",
        "1 O\n",
        "2 Y\n",
        "['1*U', '10*O', '100*Y']\n",
        "(1*U+10*O+100*Y)\n"
       ]
      }
     ],
     "prompt_number": 60
    },
    {
     "cell_type": "heading",
     "level": 1,
     "metadata": {},
     "source": [
      "Full Final Code"
     ]
    },
    {
     "cell_type": "code",
     "collapsed": false,
     "input": [
      "from __future__ import division\n",
      "import string, re \n",
      "import itertools\n",
      "import time\n",
      "\n",
      "def solve(formula):\n",
      "    \"\"\"Given a formula like 'ODD + ODD == EVEN', fill in digits to solve it.\n",
      "    Input formula is a string; output is a digit-filled-in string or None.\"\"\"\n",
      "    for answer in (f for f in fill_in(formula) if valid(f)):\n",
      "        return answer\n",
      "\n",
      "def fill_in(formula):\n",
      "    \"Generate all possible fillings-in of letters in formula with digits.\"\n",
      "    letters = ''.join(set(l for l in formula if l in string.uppercase))\n",
      "    for digits in itertools.permutations('1234567890', len(letters)):\n",
      "        table = string.maketrans(letters, ''.join(digits))\n",
      "        yield formula.translate(table)\n",
      "\n",
      "def valid(f):\n",
      "    \"\"\"Formula f is valid if and only if it has no\n",
      "    numbers with leading zero, and evals true.\"\"\"\n",
      "    try:\n",
      "        return not re.search(r'\\b0[0-9]', f) and eval(f) is True\n",
      "    except ArithmeticError:\n",
      "        return False\n",
      "\n",
      "def faster_solve(formula):\n",
      "    \"\"\"Given a formula like 'ODD + ODD == EVEN', fill in digits to solve it.\n",
      "    Input formula is a string; output is a digit-filled-in string or None.\n",
      "    This version precompiles the formula; only one eval per formula.\"\"\"\n",
      "    f, letters = compile_formula(formula)\n",
      "    \"Generate all possible fillings-in of letters in formula with digits.\"\n",
      "    for digits in itertools.permutations((1,2,3,4,5,6,7,8,9,0), len(letters)):\n",
      "        try:\n",
      "            if f(*digits) is True:\n",
      "                table = string.maketrans(letters, ''.join(map(str, digits))) #('ABC','123') ..\n",
      "                return formula.translate(table)\n",
      "        except ArithmeticError:\n",
      "            pass\n",
      "\n",
      "def compile_formula(formula, verbose=False):\n",
      "    \"\"\"Compile formula into a function.   Also return letters found, as a str,\n",
      "    in same order as parms of function. For example, 'YOU == ME**2' returns\n",
      "    (lambda Y, M, E, U, O): (U+10*O+100*Y) == (E+10*M)**2), 'YMEUO' \"\"\"\n",
      "    # ex, formula = 'YOU == ME**2'\n",
      "    letters = ''.join(set(re.findall('[A-Z]', formula))) #YMEOU\n",
      "    parms = ', '.join(letters) #Y, M, E, U, O\n",
      "    tokens = map(compile_word, re.split('([A-Z]+)', formula)) #['', 'YOU', ' == ', 'ME', '**2']\n",
      "    body = ''.join(tokens) #(1*U+10*O+100*Y) == (1*E+10*M)**2\n",
      "    f = 'lambda %s: %s' % (parms, body)\n",
      "    if verbose: print f #just print the lambda function\n",
      "    return eval(f), letters\n",
      "\n",
      "def compile_word(word):\n",
      "    \"\"\"Compile a word of uppercase letters as numeric digits.\n",
      "    E.g., compile_word('YOU') => '(1*U+10*O+100*Y)'\n",
      "    Non-uppercase words unchanged: compile_word('+') => '+'\"\"\"\n",
      "    if word.isupper():\n",
      "        terms = [('%s*%s' % (10**i, d))\n",
      "                for (i, d) in enumerate(word[::-1])]\n",
      "        return '(' + '+'.join(terms) + ')'\n",
      "    else:\n",
      "        return word\n",
      "\n",
      "    examples = \"\"\"TWO + TWO == FOUR\n",
      "A**2 + B**2 == C**2\n",
      "A**2 + BE**2 == BY**2\n",
      "X / X == X\n",
      "A**N + B**N == C**N and N > 1\n",
      "ATOM**0.5 == A + TO + M\n",
      "GLITTERS is not GOLD\n",
      "ONE < TWO and FOUR < FIVE\n",
      "ONE < TWO < THREE\n",
      "RAMN == R**3 + RM**3 == N**3 + RX**3\n",
      "sum(range(AA)) == BB\n",
      "sum(range(POP)) == BOBO\n",
      "ODD + ODD == EVEN\n",
      "PLUTO not in set([PLANETS])\"\"\".splitlines()\n",
      "\n",
      "def test():\n",
      "    t0 = time.time()\n",
      "    for example in examples:\n",
      "        print  #adds a line\n",
      "        print 13*' ', example #print out the formula\n",
      "        print '%1.4f sec:   %s ' % timedcall(faster_solve, example) #for each formula, what is the answer and how long it took to finish?\n",
      "    print '%6.9f tot.' % (time.time()-t0) #print out the total time taken\n",
      "\n",
      "def timedcall(fn, *args):\n",
      "    \"Call function with args; return the time in seconds and result.\"\n",
      "    t0 = time.time()\n",
      "    result = fn(*args)\n",
      "    t1 = time.time()\n",
      "    return t1-t0, result\n",
      "\n",
      "import cProfile \n",
      "cProfile.run('test()')"
     ],
     "language": "python",
     "metadata": {},
     "outputs": [
      {
       "output_type": "stream",
       "stream": "stdout",
       "text": [
        "\n",
        "              TWO + TWO == FOUR\n",
        "0.0060 sec:   734 + 734 == 1468 \n",
        "\n",
        "              A**2 + B**2 == C**2\n",
        "0.0010 sec:   3**2 + 4**2 == 5**2 \n",
        "\n",
        "              A**2 + BE**2 == BY**2\n",
        "0.0020 sec:   3**2 + 04**2 == 05**2 \n",
        "\n",
        "              X / X == X\n",
        "0.0000 sec:   1 / 1 == 1 \n",
        "\n",
        "              A**N + B**N == C**N and N > 1\n",
        "0.0020 sec:   3**2 + 4**2 == 5**2 and 2 > 1 \n",
        "\n",
        "              ATOM**0.5 == A + TO + M\n",
        "0.0020 sec:   1296**0.5 == 1 + 29 + 6 \n",
        "\n",
        "              GLITTERS is not GOLD\n",
        "0.0000 sec:   35499187 is not 3652 \n",
        "\n",
        "              ONE < TWO and FOUR < FIVE\n",
        "0.0080 sec:   041 < 780 and 2065 < 2391 \n",
        "\n",
        "              ONE < TWO < THREE\n",
        "0.0000 sec:   341 < 673 < 62511 \n",
        "\n",
        "              RAMN == R**3 + RM**3 == N**3 + RX**3\n",
        "0.0310 sec:   1729 == 1**3 + 12**3 == 9**3 + 10**3 "
       ]
      },
      {
       "output_type": "stream",
       "stream": "stdout",
       "text": [
        "\n",
        "\n",
        "              sum(range(AA)) == BB\n",
        "0.0000 sec:   sum(range(11)) == 55 \n",
        "\n",
        "              sum(range(POP)) == BOBO\n",
        "0.0000 sec:   sum(range(101)) == 5050 \n",
        "\n",
        "              ODD + ODD == EVEN\n",
        "0.0410 sec:   655 + 655 == 1310 \n",
        "\n",
        "              PLUTO not in set([PLANETS])\n",
        "0.0010 sec:   63894 not in set([6315297]) \n",
        "0.095000029 tot.\n",
        "         22639 function calls in 0.058 seconds\n",
        "\n",
        "   Ordered by: standard name\n",
        "\n",
        "   ncalls  tottime  percall  cumtime  percall filename:lineno(function)\n",
        "       14"
       ]
      },
      {
       "output_type": "stream",
       "stream": "stdout",
       "text": [
        "    0.033    0.002    0.092    0.007 <ipython-input-77-7e4b1e813135>:27(faster_solve)\n",
        "       14    0.000    0.000    0.003    0.000 <ipython-input-77-7e4b1e813135>:41(compile_formula)\n",
        "      106    0.000    0.000    0.000    0.000 <ipython-input-77-7e4b1e813135>:54(compile_word)\n",
        "        1    0.001    0.001    0.095    0.095 <ipython-input-77-7e4b1e813135>:80(test)\n",
        "       14    0.000    0.000    0.092    0.007 <ipython-input-77-7e4b1e813135>:88(timedcall)\n",
        "    20838    0.019    0.000    0.019    0.000 <string>:1(<lambda>)\n",
        "        1    0.000    0.000    0.095    0.095 <string>:1(<module>)\n",
        "        4    0.000    0.000    0.000    0.000 __init__.py:193(dumps)\n",
        "        4    0.000    0.000    0.000    0.000 encoder.py:101(__init__)\n",
        "        4    0.000    0.000    0.000    0.000 encoder.py:186(encode)\n",
        "        4    0.000    0.000    0.000    0.000 encoder.py:212(iterencode)\n",
        "        1    0.000    0.000    0.000    0.000 hmac.py:116(hexdigest)\n",
        "        1    0.000    0.000    0.000    0.000 hmac.py:27(__init__)\n",
        "        4    0.000    0.000    0.000    0.000 hmac.py:80(update)\n",
        "        1    0.000    0.000    0.000    0.000 hmac.py:85(copy)\n",
        "        1    0.000    0.000    0.000    0.000 hmac.py:97(_current)\n",
        "        1    0.000    0.000    0.000    0.000 iostream.py:105(_flush_from_subprocesses)\n",
        "        1    0.000    0.000    0.001    0.001 iostream.py:122(flush)\n",
        "      100    0.001    0.000    0.002    0.000 iostream.py:178(write)\n",
        "        1    0.000    0.000    0.000    0.000 iostream.py:209(_flush_buffer)\n",
        "        1    0.000    0.000    0.000    0.000 iostream.py:218(_new_buffer)\n",
        "      102    0.000    0.000    0.000    0.000 iostream.py:79(_is_master_process)\n",
        "        1    0.000    0.000    0.000    0.000 iostream.py:82(_is_master_thread)\n",
        "      101    0.000    0.000    0.000    0.000 iostream.py:88(_check_mp_mode)\n",
        "        4    0.000    0.000    0.000    0.000 jsonapi.py:58(_squash_unicode)\n",
        "        4    0.000    0.000    0.000    0.000 jsonapi.py:64(dumps)\n",
        "        1    0.000    0.000    0.000    0.000 jsonutil.py:94(date_default)\n",
        "        1    0.000    0.000    0.000    0.000 poll.py:88(poll)\n",
        "        1    0.000    0.000    0.000    0.000 py3compat.py:13(no_code)\n",
        "        1    0.000    0.000    0.000    0.000 pysocket.py:154(send_multipart)\n",
        "       14    0.000    0.000    0.000    0.000 re.py:164(split)\n",
        "       14    0.000    0.000    0.000    0.000 re.py:169(findall)\n",
        "       28    0.000    0.000    0.000    0.000 re.py:226(_compile)\n",
        "        1    0.000    0.000    0.000    0.000 session.py:191(msg_header)\n",
        "        1    0.000    0.000    0.000    0.000 session.py:195(extract_header)\n",
        "        1    0.000    0.000    0.000    0.000 session.py:425(msg_id)\n",
        "        1    0.000    0.000    0.000    0.000 session.py:460(msg_header)\n",
        "        1    0.000    0.000    0.000    0.000 session.py:463(msg)\n",
        "        1    0.000    0.000    0.000    0.000 session.py:482(sign)\n",
        "        1    0.000    0.000    0.000    0.000 session.py:497(serialize)\n",
        "        1    0.000    0.000    0.000    0.000 session.py:554(send)\n",
        "        4    0.000    0.000    0.000    0.000 session.py:82(<lambda>)\n",
        "        1    0.000    0.000    0.000    0.000 threading.py:1150(currentThread)\n",
        "        1    0.000    0.000    0.000    0.000 threading.py:981(ident)\n",
        "       12    0.000    0.000    0.000    0.000 traitlets.py:281(__get__)\n",
        "      100    0.000    0.000    0.000    0.000 utf_8.py:15(decode)\n",
        "        1    0.000    0.000    0.000    0.000 uuid.py:101(__init__)\n",
        "        1    0.000    0.000    0.000    0.000 uuid.py:197(__str__)\n",
        "        1    0.000    0.000    0.000    0.000 uuid.py:531(uuid4)\n",
        "      100    0.000    0.000    0.000    0.000 {_codecs.utf_8_decode}\n",
        "        1    0.000    0.000    0.000    0.000 {built-in method now}\n",
        "       14    0.002    0.000    0.002    0.000 {eval}\n",
        "        1    0.000    0.000    0.000    0.000 {hasattr}\n",
        "      118    0.000    0.000    0.000    0.000 {isinstance}\n",
        "       22    0.000    0.000    0.000    0.000 {len}\n",
        "        1    0.000    0.000    0.000    0.000 {locals}\n",
        "       29    0.000    0.000    0.001    0.000 {map}\n",
        "        1    0.000    0.000    0.000    0.000 {max}\n",
        "        3    0.000    0.000    0.000    0.000 {method 'append' of 'list' objects}\n",
        "        1    0.000    0.000    0.000    0.000 {method 'close' of '_io.StringIO' objects}\n",
        "        3    0.000    0.000    0.000    0.000 {method 'copy' of '_hashlib.HASH' objects}\n",
        "        1    0.000    0.000    0.000    0.000 {method 'copy' of 'dict' objects}\n",
        "        1    0.000    0.000    0.000    0.000 {method 'count' of 'list' objects}\n",
        "      100    0.000    0.000    0.001    0.000 {method 'decode' of 'str' objects}\n",
        "        1    0.000    0.000    0.000    0.000 {method 'digest' of '_hashlib.HASH' objects}\n",
        "        1    0.000    0.000    0.000    0.000 {method 'disable' of '_lsprof.Profiler' objects}\n",
        "        2    0.000    0.000    0.000    0.000 {method 'extend' of 'list' objects}\n",
        "       14    0.000    0.000    0.000    0.000 {method 'findall' of '_sre.SRE_Pattern' objects}\n",
        "       29    0.000    0.000    0.000    0.000 {method 'get' of 'dict' objects}\n",
        "        1    0.000    0.000    0.000    0.000 {method 'getvalue' of '_io.StringIO' objects}\n",
        "        1    0.000    0.000    0.000    0.000 {method 'hexdigest' of '_hashlib.HASH' objects}\n",
        "        1    0.000    0.000    0.000    0.000 {method 'isoformat' of 'datetime.datetime' objects}\n",
        "      106    0.000    0.000    0.000    0.000 {method 'isupper' of 'str' objects}\n",
        "        1    0.000    0.000    0.000    0.000 {method 'items' of 'dict' objects}\n",
        "      106    0.000    0.000    0.000    0.000 {method 'join' of 'str' objects}\n",
        "        7    0.000    0.000    0.000    0.000 {method 'send' of 'zmq.core.socket.Socket' objects}\n",
        "       14    0.000    0.000    0.000    0.000 {method 'split' of '_sre.SRE_Pattern' objects}\n",
        "       14    0.000    0.000    0.000    0.000 {method 'translate' of 'str' objects}\n",
        "        5    0.000    0.000    0.000    0.000 {method 'update' of '_hashlib.HASH' objects}\n",
        "      100    0.000    0.000    0.000    0.000 {method 'write' of '_io.StringIO' objects}\n",
        "      103    0.000    0.000    0.000    0.000 {nt.getpid}\n",
        "        1    0.000    0.000    0.000    0.000 {nt.urandom}\n",
        "       37    0.000    0.000    0.000    0.000 {range}\n",
        "       14    0.000    0.000    0.000    0.000 {strop.maketrans}\n",
        "       36    0.000    0.000    0.000    0.000 {sum}\n",
        "        1    0.000    0.000    0.000    0.000 {thread.get_ident}\n",
        "      130    0.000    0.000    0.000    0.000 {time.time}\n",
        "        1    0.000    0.000    0.000    0.000 {zmq.core._poll._poll}\n",
        "\n",
        "\n"
       ]
      }
     ],
     "prompt_number": 77
    },
    {
     "cell_type": "code",
     "collapsed": false,
     "input": [
      "\"\"\" Total Time:\n",
      "    0.095000029 now \n",
      "    1.851000071 before\n",
      "\"\"\"\n",
      "print 1.851000071/0.095000029"
     ],
     "language": "python",
     "metadata": {},
     "outputs": [
      {
       "output_type": "stream",
       "stream": "stdout",
       "text": [
        "19.4842053259\n"
       ]
      }
     ],
     "prompt_number": 78
    },
    {
     "cell_type": "heading",
     "level": 2,
     "metadata": {},
     "source": [
      "19x FASTER  !!!!!"
     ]
    },
    {
     "cell_type": "code",
     "collapsed": false,
     "input": [],
     "language": "python",
     "metadata": {},
     "outputs": []
    }
   ],
   "metadata": {}
  }
 ]
}